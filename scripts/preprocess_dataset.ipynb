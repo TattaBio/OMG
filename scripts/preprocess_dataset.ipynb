{
 "cells": [
  {
   "cell_type": "code",
   "execution_count": 1,
   "metadata": {},
   "outputs": [],
   "source": [
    "import datasets"
   ]
  },
  {
   "cell_type": "code",
   "execution_count": 2,
   "metadata": {},
   "outputs": [
    {
     "data": {
      "application/vnd.jupyter.widget-view+json": {
       "model_id": "0c445c4a4a0041eeb5f00a41ff0ffce9",
       "version_major": 2,
       "version_minor": 0
      },
      "text/plain": [
       "Downloading readme:   0%|          | 0.00/574 [00:00<?, ?B/s]"
      ]
     },
     "metadata": {},
     "output_type": "display_data"
    },
    {
     "data": {
      "application/vnd.jupyter.widget-view+json": {
       "model_id": "b56138ae3d314b73affd38bf31c2cd28",
       "version_major": 2,
       "version_minor": 0
      },
      "text/plain": [
       "Resolving data files:   0%|          | 0/959 [00:00<?, ?it/s]"
      ]
     },
     "metadata": {},
     "output_type": "display_data"
    },
    {
     "data": {
      "application/vnd.jupyter.widget-view+json": {
       "model_id": "813c240cadf74cbbac1929c8ec50bf79",
       "version_major": 2,
       "version_minor": 0
      },
      "text/plain": [
       "Resolving data files:   0%|          | 0/959 [00:00<?, ?it/s]"
      ]
     },
     "metadata": {},
     "output_type": "display_data"
    },
    {
     "name": "stdout",
     "output_type": "stream",
     "text": [
      "{'CDS_position_ids': [1, 3, 5, 7], 'IGS_position_ids': [0, 2, 4, 6, 8], 'CDS_ids': ['7000000126|C1821366|CDS|C1821366__gene_115413|+|84:437', '7000000126|C1821366|CDS|C1821366__gene_115414|+|456:977', '7000000126|C1821366|CDS|C1821366__gene_115415|+|991:1167', '7000000126|C1821366|CDS|C1821366__gene_115416|+|1243:1689'], 'IGS_ids': ['7000000126|C1821366|IG|IG_000001|+|73:83', '7000000126|C1821366|IG|IG_000002|+|438:455', '7000000126|C1821366|IG|IG_000003|+|978:990', '7000000126|C1821366|IG|IG_000004|+|1168:1242', '7000000126|C1821366|IG|IG_000005|+|1690:1697'], 'CDS_seqs': ['MALTKVEKRNRIKRRVRGKISGTQASPRLSVYKSNKEIYAQLIDDKEGKTLVFASSREKEVNAKGTKTEVAAAVGKRIAEKAKAAGYEKVVFDRNGFVYHGRIKALADGAREGGLQF', 'MLGIDNIERVKPGGLELVDRLVAVNRVTKVTKGGRAFGFSAIVVVGNEDGVIGHGLGKSKEVASAISKAVEEAKKNLVRVPVINHTIPHQTSARYGGADIFLRPASHGTGLIAGGAVRAVLESAGVHDVLSKSKGSSNPHNVVKATFKALLDIRRPEEIARMRGISLNKVFNG', 'MATIKVKQVRSAIGRTKTQKLTLEALGLRKLNQVVEHEATPSILGMVAAVKHLVEVQK', 'MNLSNIKPASGATHNSKRLGRGQGSGKGGTSTRGHKGAKSRSGNSTKIGFEGGQMPLQRRLPKFGFNNVNRKEYRAINLDTIQSLIDAKNLTEITKEVLVENGLSSKNELVKIMGRGELKSGVSISANKFTKSAEEAINKVGGKAITL'], 'IGS_seqs': ['AATTTAAGGAA', 'TTTTAAAAGTATCGAAAT', 'TTTTTAAAGAAAA', 'AAATAATCTTAAAAGGTTTAATGCTGAGAGATTGGCATTAAATCTTTTGATTTGAATTTTAAATTTAAGACAATT', 'AAAAAATA'], 'CDS_orientations': [True, True, True, True]}\n"
     ]
    }
   ],
   "source": [
    "ds = datasets.load_dataset('tattabio/OMG_v2', streaming=True)['train']\n",
    "print(next(iter(ds)))"
   ]
  },
  {
   "cell_type": "code",
   "execution_count": 11,
   "metadata": {},
   "outputs": [
    {
     "name": "stdout",
     "output_type": "stream",
     "text": [
      "{'CDS_position_ids': [1, 2, 3, 5], 'IGS_position_ids': [0, 4, 6], 'CDS_ids': ['3300046532|Ga0491191_0068788|CDS|Ga0491191_0068788_783_1370|+|783:1370', '3300046532|Ga0491191_0068788|CDS|Ga0491191_0068788_1367_1906|+|1367:1906', '3300046532|Ga0491191_0068788|CDS|Ga0491191_0068788_1893_3176|+|1893:3176', '3300046532|Ga0491191_0068788|CDS|Ga0491191_0068788_3181_3432|+|3181:3432'], 'IGS_ids': ['3300046532|Ga0491191_0068788|IG|IG_000001|+|741:782', '3300046532|Ga0491191_0068788|IG|IG_000002|+|3177:3180', '3300046532|Ga0491191_0068788|IG|IG_000003|+|3433:3436'], 'CDS_seqs': ['MWYNLPNILTFSRIIAIPVIIGLLLFVDDPHGSWLAFSAYTYACLTDFFDGYVARAWHLQSAFGRFLDPIADKLLIASVLLMLVGIDRFSGLTVVSGLREFLAQIPVSVPVTALAKWKTLIQMLALGFLLVGPVGPDFGPLTTTEVGVWGLWGAALLTMITGYDYLRVGLLQIIRTDLGPGDEQTLNSDQDGKES', 'VKIFGLVGWSGSGKTTLVTALLPELIRRGYSVSTMKHTHHNFDIDKKGKDSFEHRMAGAKEVLLTGSSRWAILHENRNTIEPSIEQLLDRLEDVDLVLIEGFKSYGHQKLEVFRPSVGKPLIARDDQSIVAIASDVQISDLTDLVDKNMVFINLDDTKAIADFIVEQTGLDAEERNGTA', 'MAQLKDDCFAFGGDLMELRDALNLLKKNVSLVVASENVPLNLAEGRFLAENIISERNVPPHNNSAVDGFAVFFNDLNSDGVTRLPVTGRIAAGHPLGRPAIRGEALRIFTGASMPEGLESQPDTIFMDEDCTLEETSVGEVVVLPEGLQLGANHRFAGEDIKIGDVIVSIGQQLRPQEIGLAASVGLATLKVYKPLRVAVFSTGDEVSDPGKKIYPGCIYDANRHAVMALLKSLGCEVSDLGILQDNTSLIIEALARAASNHDLLVTSGGISAGEEDHVKDAVETLGQIDLWRLAIKPGRPIALGQVGNVAFLGLPGNPVAAMVTFMVIGRVLLLLLSGAARTKAQYFLVEANFNYKKKKGRREWARVRLKNIEGGHPLAEKHISSGAGILTSMVEADGLIEMDENMDGVKKGTLVPFLPFNEVTGR', 'MKLLYFAWIREKAGTPNEEVSPPDDVVSVADLIKWQISRGGGYTEAFADLSMIRVAVNQEYVSFEHPVVHGDEIAFFPPMTGG'], 'IGS_seqs': ['TAGGTTTAGAATGATCTAAGGGCCTTAGATTGGAATAGGACG', 'AGTA', 'AGCC'], 'CDS_orientations': [True, True, True, True]}\n"
     ]
    }
   ],
   "source": [
    "iterator = iter(ds.shuffle())\n",
    "print(next(iterator))"
   ]
  },
  {
   "cell_type": "code",
   "execution_count": 13,
   "metadata": {},
   "outputs": [
    {
     "name": "stdout",
     "output_type": "stream",
     "text": [
      "{'CDS_position_ids': [1, 2, 4, 5, 6, 8], 'IGS_position_ids': [0, 3, 7], 'CDS_ids': ['3300046532|Ga0491191_0166405|CDS|Ga0491191_0166405_221_571|-|221:571', '3300046532|Ga0491191_0166405|CDS|Ga0491191_0166405_571_855|-|571:855', '3300046532|Ga0491191_0166405|CDS|Ga0491191_0166405_874_1044|-|874:1044', '3300046532|Ga0491191_0166405|CDS|Ga0491191_0166405_1016_1198|-|1016:1198', '3300046532|Ga0491191_0166405|CDS|Ga0491191_0166405_1199_1510|-|1199:1510', '3300046532|Ga0491191_0166405|CDS|Ga0491191_0166405_1654_1806|-|1654:1806'], 'IGS_ids': ['3300046532|Ga0491191_0166405|IG|IG_000001|+|210:220', '3300046532|Ga0491191_0166405|IG|IG_000002|+|856:873', '3300046532|Ga0491191_0166405|IG|IG_000003|+|1511:1653'], 'CDS_seqs': ['MKTGSKVKPLQNDESASNKEAPDRLGKINELRAIIEFLANGAEVFINVRQQGPIDLVVIHDSGEIEKLDVKTRSVRMRDGSPIHRSLTPVQKKLGVRFYYIDENHMGHYHPPKGLE', 'MKGKNNMKYNLVKRTKMNYIDDQLTIVKVASSLDQAMKYKVAHDVLEESDKNVSFELCINIDDVFKYVNQEESTGESEALAEKFRTEQSEADLN', 'MDQRTATIFRYHCLIKKCREKGRFETAIKLKDKIENMVFKKNNRDTMSQDTIPKIC', 'MVEFNKSGDSYSEIRNFKGYTVDNIEGGCIIKIICLDGSVSTYKCTTPKEKNGPENSNNL', 'MTEYTDKQLAEMDKEAKDNIAINSGVKTKNKPMTIQEEYKNADVPIPPKVLGEIIQVLETRNDYLHKHIEKLTNEILDIRKDNKKLSKQCEDQMDQFRNKGVL', 'MNEERKEKTVDNDLLNASNTEHFKHKPEKYNGGKAYTEFLKLFFKGGKTD'], 'IGS_seqs': ['TTGTTTGTTTT', 'TATTTATTTTTTGTTATA', 'TTTTTTTCTCCTTTTTTAAATCTTCGTTCAGTATGTACGTGTTAACAGATACCTTATTACGCTTAGCACCCTTAACGGCCATTGCGTAACTCTCACGAGTTAACCAAGAAAATTTTTTCTTTAATTTTTCAAACTCTCTTTTT'], 'CDS_orientations': [False, False, False, False, False, False]}\n"
     ]
    }
   ],
   "source": [
    "print(next(iterator))"
   ]
  },
  {
   "cell_type": "code",
   "execution_count": 6,
   "metadata": {},
   "outputs": [
    {
     "data": {
      "application/vnd.jupyter.widget-view+json": {
       "model_id": "61834c05cc044928a3a14757b73df2b8",
       "version_major": 2,
       "version_minor": 0
      },
      "text/plain": [
       "tokenizer_config.json:   0%|          | 0.00/702k [00:00<?, ?B/s]"
      ]
     },
     "metadata": {},
     "output_type": "display_data"
    },
    {
     "data": {
      "application/vnd.jupyter.widget-view+json": {
       "model_id": "b6e1294c680940b09600dce79d0c95f3",
       "version_major": 2,
       "version_minor": 0
      },
      "text/plain": [
       "tokenizer.json:   0%|          | 0.00/743k [00:00<?, ?B/s]"
      ]
     },
     "metadata": {},
     "output_type": "display_data"
    },
    {
     "data": {
      "application/vnd.jupyter.widget-view+json": {
       "model_id": "ffc3ea1487bb4162bf5549181775fc77",
       "version_major": 2,
       "version_minor": 0
      },
      "text/plain": [
       "special_tokens_map.json:   0%|          | 0.00/189 [00:00<?, ?B/s]"
      ]
     },
     "metadata": {},
     "output_type": "display_data"
    },
    {
     "name": "stderr",
     "output_type": "stream",
     "text": [
      "Special tokens have been added in the vocabulary, make sure the associated word embeddings are fine-tuned or trained.\n"
     ]
    }
   ],
   "source": [
    "from transformers import AutoTokenizer\n",
    "\n",
    "tokenizer = AutoTokenizer.from_pretrained(\"tattabio/gLM\")"
   ]
  },
  {
   "cell_type": "code",
   "execution_count": 12,
   "metadata": {},
   "outputs": [
    {
     "data": {
      "text/plain": [
       "[3410]"
      ]
     },
     "execution_count": 12,
     "metadata": {},
     "output_type": "execute_result"
    }
   ],
   "source": [
    "# Which token is string \"A\"\n",
    "tokenizer.encode(\"g\")"
   ]
  },
  {
   "cell_type": "code",
   "execution_count": 13,
   "metadata": {},
   "outputs": [
    {
     "name": "stderr",
     "output_type": "stream",
     "text": [
      "/home/tatta/.glm2-env/lib/python3.10/site-packages/huggingface_hub/file_download.py:1150: FutureWarning: `resume_download` is deprecated and will be removed in version 1.0.0. Downloads always resume when possible. If you want to force a new download, use `force_download=True`.\n",
      "  warnings.warn(\n"
     ]
    }
   ],
   "source": [
    "esm_tokenizer = AutoTokenizer.from_pretrained(\"facebook/esm2_t33_650M_UR50D\")"
   ]
  },
  {
   "cell_type": "code",
   "execution_count": 14,
   "metadata": {},
   "outputs": [
    {
     "data": {
      "text/plain": [
       "{'<cls>': 0,\n",
       " '<pad>': 1,\n",
       " '<eos>': 2,\n",
       " '<unk>': 3,\n",
       " 'L': 4,\n",
       " 'A': 5,\n",
       " 'G': 6,\n",
       " 'V': 7,\n",
       " 'S': 8,\n",
       " 'E': 9,\n",
       " 'R': 10,\n",
       " 'T': 11,\n",
       " 'I': 12,\n",
       " 'D': 13,\n",
       " 'P': 14,\n",
       " 'K': 15,\n",
       " 'Q': 16,\n",
       " 'N': 17,\n",
       " 'F': 18,\n",
       " 'Y': 19,\n",
       " 'M': 20,\n",
       " 'H': 21,\n",
       " 'W': 22,\n",
       " 'C': 23,\n",
       " 'X': 24,\n",
       " 'B': 25,\n",
       " 'U': 26,\n",
       " 'Z': 27,\n",
       " 'O': 28,\n",
       " '.': 29,\n",
       " '-': 30,\n",
       " '<null_1>': 31,\n",
       " '<mask>': 32}"
      ]
     },
     "execution_count": 14,
     "metadata": {},
     "output_type": "execute_result"
    }
   ],
   "source": [
    "esm_tokenizer.get_vocab()"
   ]
  },
  {
   "cell_type": "code",
   "execution_count": null,
   "metadata": {},
   "outputs": [],
   "source": []
  }
 ],
 "metadata": {
  "kernelspec": {
   "display_name": ".glm2-env",
   "language": "python",
   "name": "python3"
  },
  "language_info": {
   "codemirror_mode": {
    "name": "ipython",
    "version": 3
   },
   "file_extension": ".py",
   "mimetype": "text/x-python",
   "name": "python",
   "nbconvert_exporter": "python",
   "pygments_lexer": "ipython3",
   "version": "3.10.12"
  }
 },
 "nbformat": 4,
 "nbformat_minor": 2
}
